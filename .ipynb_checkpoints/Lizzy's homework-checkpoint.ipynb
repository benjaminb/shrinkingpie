{
 "cells": [
  {
   "cell_type": "code",
   "execution_count": 183,
   "metadata": {},
   "outputs": [],
   "source": [
    "import math\n",
    "import matplotlib.pyplot as plt"
   ]
  },
  {
   "cell_type": "code",
   "execution_count": 210,
   "metadata": {},
   "outputs": [],
   "source": [
    "def familiarity(x, f, t):\n",
    "    if not x:\n",
    "        return 0\n",
    "    \n",
    "    result = 0\n",
    "    for k, value in enumerate(x[:t]):\n",
    "        result += f ** (t - k) if x[k] else 0\n",
    "    return result / t"
   ]
  },
  {
   "cell_type": "code",
   "execution_count": 211,
   "metadata": {},
   "outputs": [],
   "source": [
    "def discount(x, d, t):\n",
    "    if not x:\n",
    "        return 0\n",
    "    \n",
    "    result = 0\n",
    "    for k, value in enumerate(x[:t]):\n",
    "        result += d ** (t - k) if x[k] else 0\n",
    "    return 1 - (result / t)\n",
    "\n"
   ]
  },
  {
   "cell_type": "code",
   "execution_count": 212,
   "metadata": {},
   "outputs": [],
   "source": [
    "pizza_val = 2\n",
    "salad_val = 2\n",
    "salad_discount = 0.7\n",
    "pizza_discount = 0.58\n",
    "\n",
    "s_familiarity_factor = 0.7\n",
    "p_familiarity_factor = 0.6"
   ]
  },
  {
   "cell_type": "code",
   "execution_count": 213,
   "metadata": {},
   "outputs": [],
   "source": [
    "pizza = []\n",
    "salad = []\n",
    "\n",
    "p_scores = []\n",
    "s_scores = []\n",
    "\n",
    "for k in range(50):\n",
    "    s_famil = familiarity(salad, s_familiarity_factor, k + 1)\n",
    "    s_disc = discount(salad, salad_discount, k + 1)\n",
    "    s_score = salad_val * math.exp(s_disc) / math.exp(s_famil)\n",
    "    s_scores.append(s_score)\n",
    "    \n",
    "    \n",
    "    p_famil = familiarity(pizza, p_familiarity_factor, k + 1)\n",
    "    p_disc = discount(pizza, pizza_discount, k + 1)\n",
    "    p_score = pizza_val * math.exp(p_disc) / math.exp(p_famil)\n",
    "    p_scores.append(p_score)\n",
    "    \n",
    "    if s_score > p_score:\n",
    "        salad.append(1)\n",
    "        pizza.append(0)\n",
    "    else:\n",
    "        pizza.append(1)\n",
    "        salad.append(0)\n",
    "    "
   ]
  },
  {
   "cell_type": "code",
   "execution_count": 214,
   "metadata": {},
   "outputs": [
    {
     "name": "stdout",
     "output_type": "stream",
     "text": [
      "Pizza [1, 0, 1, 0, 1, 0, 1, 1, 0, 1, 0, 1, 1, 0, 1, 0, 1, 1, 0, 1, 0, 1, 1, 0, 1, 0, 1, 1, 0, 1, 0, 1, 1, 0, 1, 0, 1, 1, 0, 1, 0, 1, 1, 0, 1, 0, 1, 1, 0, 1]\n",
      "Salad [0, 1, 0, 1, 0, 1, 0, 0, 1, 0, 1, 0, 0, 1, 0, 1, 0, 0, 1, 0, 1, 0, 0, 1, 0, 1, 0, 0, 1, 0, 1, 0, 0, 1, 0, 1, 0, 0, 1, 0, 1, 0, 0, 1, 0, 1, 0, 0, 1, 0]\n"
     ]
    }
   ],
   "source": [
    "print(\"Pizza\", pizza)\n",
    "print(\"Salad\", salad)"
   ]
  },
  {
   "cell_type": "markdown",
   "metadata": {},
   "source": [
    "$$\\frac{\\delta x_i}{1 - f(x)}$$\n",
    "\n",
    "Discount function\n",
    "\n",
    "$$d(t, x_i) = 1 - \\sum_{k=0}^{t - 1} \\frac{\\delta^{t - k}}{t}$$\n",
    "\n",
    "Familiarity function\n",
    "$$F(t, x_i) = \\frac{1}{t}\\sum_{k=1}^{t-1} f_i^{t-k} \\mathbb{1}_{\\{x_i\\}}(t)$$"
   ]
  },
  {
   "cell_type": "code",
   "execution_count": 105,
   "metadata": {},
   "outputs": [
    {
     "name": "stdout",
     "output_type": "stream",
     "text": [
      "p_score 0\n",
      "p_famil 0\n",
      "Final salad score: 0\n",
      "Final pizza score: 0\n",
      "p_score 0.00390625\n",
      "p_famil 0.36787944117144233\n",
      "Final salad score: 0.0\n",
      "Final pizza score: 0.0014370290670759466\n",
      "p_score 0.01171875\n",
      "p_famil 0.503214724408055\n",
      "Final salad score: 0.0\n",
      "Final pizza score: 0.0058970475516568945\n",
      "p_score 0.02734375\n",
      "p_famil 0.553001792775919\n",
      "Final salad score: 0.0\n",
      "Final pizza score: 0.015121142771216536\n",
      "p_score 0.05859375\n",
      "p_famil 0.5713174316646532\n",
      "Final salad score: 0.0\n",
      "Final pizza score: 0.033475630761600775\n",
      "p_score 0.12109375\n",
      "p_famil 0.5780553786637386\n",
      "Final salad score: 0.0\n",
      "Final pizza score: 0.0699988935100621\n",
      "p_score 0.24609375\n",
      "p_famil 0.580534130840405\n",
      "Final salad score: 0.0\n",
      "Final pizza score: 0.1428658212615059\n",
      "p_score 0.49609375\n",
      "p_famil 0.5814460128059595\n",
      "Final salad score: 0.0\n",
      "Final pizza score: 0.2884517329154565\n"
     ]
    }
   ],
   "source": [
    "t = len(salad)\n",
    "choice = []\n",
    "\n",
    "salad = []\n",
    "pizza = []\n",
    "for i in range(t):\n",
    "    s_score = sum([salad_discount ** (t - j) for j in range(i)])\n",
    "    p_score = sum([pizza_discount ** (t - j) for j in range(i)])\n",
    "    s_famil = familiarity(salad, s_familiarity_factor, i)\n",
    "    p_famil = familiarity(pizza, p_familiarity_factor, i)\n",
    "    choose_salad = s_score * s_famil > p_score * p_famil\n",
    "    print(\"p_score\", p_score)\n",
    "    print(\"p_famil\", p_famil)\n",
    "    print(\"Final salad score:\", s_score * s_famil)\n",
    "    print(\"Final pizza score:\", p_score * p_famil)\n",
    "    if choose_salad:\n",
    "        salad += [1]\n",
    "        pizza += [0]\n",
    "    else:\n",
    "        pizza += [1]\n",
    "        salad += [0]"
   ]
  },
  {
   "cell_type": "code",
   "execution_count": 93,
   "metadata": {},
   "outputs": [
    {
     "data": {
      "text/plain": [
       "[1, 1, 1, 1, 1, 1, 1, 1]"
      ]
     },
     "execution_count": 93,
     "metadata": {},
     "output_type": "execute_result"
    }
   ],
   "source": [
    "pizza"
   ]
  },
  {
   "cell_type": "code",
   "execution_count": 91,
   "metadata": {},
   "outputs": [
    {
     "data": {
      "text/plain": [
       "[0, 0, 0, 0, 0, 0, 0, 0]"
      ]
     },
     "execution_count": 91,
     "metadata": {},
     "output_type": "execute_result"
    }
   ],
   "source": [
    "salad"
   ]
  },
  {
   "cell_type": "code",
   "execution_count": null,
   "metadata": {},
   "outputs": [],
   "source": []
  }
 ],
 "metadata": {
  "kernelspec": {
   "display_name": "Python 3",
   "language": "python",
   "name": "python3"
  },
  "language_info": {
   "codemirror_mode": {
    "name": "ipython",
    "version": 3
   },
   "file_extension": ".py",
   "mimetype": "text/x-python",
   "name": "python",
   "nbconvert_exporter": "python",
   "pygments_lexer": "ipython3",
   "version": "3.7.6"
  }
 },
 "nbformat": 4,
 "nbformat_minor": 4
}
